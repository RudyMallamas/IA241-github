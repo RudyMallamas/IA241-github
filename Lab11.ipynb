{
 "cells": [
  {
   "cell_type": "code",
   "execution_count": 1,
   "id": "a57e970a",
   "metadata": {},
   "outputs": [],
   "source": [
    "import requests\n",
    "import json\n",
    "from pprint import pprint"
   ]
  },
  {
   "cell_type": "code",
   "execution_count": 3,
   "id": "24d5574c",
   "metadata": {},
   "outputs": [],
   "source": [
    "census_api_key = 'e80875bfddfa4e5b9135fec64493323819915c54'\n",
    "url_str = 'https://api.census.gov/data/2016/acs/acs5?get=B01001_001E,B01001_002E,NAME&for=county:*&in=state:51&key='+census_api_key"
   ]
  },
  {
   "cell_type": "code",
   "execution_count": 4,
   "id": "62e1e8e0",
   "metadata": {},
   "outputs": [],
   "source": [
    "response = requests.get(url_str)\n",
    "data = json.loads(response.content)"
   ]
  },
  {
   "cell_type": "code",
   "execution_count": 7,
   "id": "fa66481a",
   "metadata": {},
   "outputs": [],
   "source": [
    "tot_pop = {}\n",
    "male_population = {}\n",
    "male_ratio = {}\n",
    "\n",
    "for row in data[1:]:\n",
    "    county_name = row[2]\n",
    "    total_pop = int(row[0])\n",
    "    male_pop = int(row[1])\n",
    "    \n",
    "    tot_pop[county_name] = total_pop\n",
    "    male_population[county_name] = male_pop\n",
    "    male_ratio[county_name] = male_pop/total_pop if total_pop != 0 else 0"
   ]
  },
  {
   "cell_type": "code",
   "execution_count": 9,
   "id": "49aebe47",
   "metadata": {},
   "outputs": [
    {
     "name": "stdout",
     "output_type": "stream",
     "text": [
      "Fairfax County, Virginia has the most total population with 1132887 people.\n"
     ]
    }
   ],
   "source": [
    "county_with_most_total_pop = max(tot_pop, key=tot_pop.get)\n",
    "most_total_pop = tot_pop[county_with_most_total_pop]\n",
    "print(\"{} has the most total population with {} people.\".format(county_with_most_total_pop, most_total_pop))"
   ]
  },
  {
   "cell_type": "code",
   "execution_count": 10,
   "id": "35258a49",
   "metadata": {},
   "outputs": [
    {
     "name": "stdout",
     "output_type": "stream",
     "text": [
      "Fairfax County, Virginia has the most male population with 560803 people.\n"
     ]
    }
   ],
   "source": [
    "county_with_most_male_pop = max(male_population, key=male_population.get)\n",
    "most_male_pop = male_population[county_with_most_male_pop]\n",
    "print(\"{} has the most male population with {} people.\".format(county_with_most_male_pop, most_male_pop))"
   ]
  },
  {
   "cell_type": "code",
   "execution_count": 11,
   "id": "4a04095a",
   "metadata": {},
   "outputs": [
    {
     "name": "stdout",
     "output_type": "stream",
     "text": [
      "Sussex County, Virginia has the highest male population/total population ratio with 0.66.\n"
     ]
    }
   ],
   "source": [
    "county_with_highest_ratio = max(male_ratio, key=male_ratio.get)\n",
    "highest_ratio = male_ratio[county_with_highest_ratio]\n",
    "print(\"{} has the highest male population/total population ratio with {:.2f}.\".format(county_with_highest_ratio, highest_ratio))"
   ]
  },
  {
   "cell_type": "code",
   "execution_count": null,
   "id": "5c4f1ce6",
   "metadata": {},
   "outputs": [],
   "source": []
  }
 ],
 "metadata": {
  "kernelspec": {
   "display_name": "conda_python3",
   "language": "python",
   "name": "conda_python3"
  },
  "language_info": {
   "codemirror_mode": {
    "name": "ipython",
    "version": 3
   },
   "file_extension": ".py",
   "mimetype": "text/x-python",
   "name": "python",
   "nbconvert_exporter": "python",
   "pygments_lexer": "ipython3",
   "version": "3.10.8"
  }
 },
 "nbformat": 4,
 "nbformat_minor": 5
}
